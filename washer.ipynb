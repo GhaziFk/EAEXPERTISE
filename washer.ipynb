{
 "cells": [
  {
   "cell_type": "code",
   "execution_count": 1,
   "metadata": {},
   "outputs": [
    {
     "ename": "ModuleNotFoundError",
     "evalue": "No module named 'langdetect'",
     "output_type": "error",
     "traceback": [
      "\u001b[1;31m---------------------------------------------------------------------------\u001b[0m",
      "\u001b[1;31mModuleNotFoundError\u001b[0m                       Traceback (most recent call last)",
      "Cell \u001b[1;32mIn[1], line 2\u001b[0m\n\u001b[0;32m      1\u001b[0m \u001b[38;5;28;01mimport\u001b[39;00m \u001b[38;5;21;01mfitz\u001b[39;00m  \u001b[38;5;66;03m# PyMuPDF\u001b[39;00m\n\u001b[1;32m----> 2\u001b[0m \u001b[38;5;28;01mfrom\u001b[39;00m \u001b[38;5;21;01mlangdetect\u001b[39;00m \u001b[38;5;28;01mimport\u001b[39;00m detect\n\u001b[0;32m      3\u001b[0m \u001b[38;5;28;01mimport\u001b[39;00m \u001b[38;5;21;01mre\u001b[39;00m\n\u001b[0;32m      5\u001b[0m \u001b[38;5;28;01mdef\u001b[39;00m \u001b[38;5;21mclean_text\u001b[39m(text):\n\u001b[0;32m      6\u001b[0m     \u001b[38;5;66;03m# Replace multiple whitespace with a single space\u001b[39;00m\n",
      "\u001b[1;31mModuleNotFoundError\u001b[0m: No module named 'langdetect'"
     ]
    }
   ],
   "source": [
    "import fitz  # PyMuPDF\n",
    "from langdetect\n",
    "import re\n",
    "\n",
    "def clean_text(text):\n",
    "    # Replace multiple whitespace with a single space\n",
    "    text = re.sub(r'\\s+', ' ', text)\n",
    "    \n",
    "    # Remove non-ASCII characters\n",
    "    text = re.sub(r'[^\\x00-\\x7F]+', '', text)\n",
    "    \n",
    "    # Remove leading and trailing whitespace\n",
    "    text = text.strip()\n",
    "    \n",
    "    # Additional cleaning rules can be added here\n",
    "    # Example: Remove URLs\n",
    "    text = re.sub(r'http\\S+', '', text)\n",
    "    \n",
    "    # Example: Remove special characters\n",
    "    text = re.sub(r'[^\\w\\s]', '', text)\n",
    "    \n",
    "    return text\n",
    "\n",
    "def extract_and_clean_english_text(pdf_path, max_page=66):\n",
    "    \"\"\"\n",
    "    Extracts and cleans English text from a PDF up to a specified page.\n",
    "    \n",
    "    Args:\n",
    "    pdf_path (str): The path to the PDF file.\n",
    "    max_page (int): The maximum number of pages to process.\n",
    "\n",
    "    Returns:\n",
    "    str: The cleaned and concatenated English text extracted from the PDF.\n",
    "    \"\"\"\n",
    "    # Open the PDF file\n",
    "    pdf_document = fitz.open(pdf_path)\n",
    "\n",
    "    # Initialize a list to hold all English text\n",
    "    english_text = []\n",
    "\n",
    "    # Loop through each page in the PDF until the specified max_page\n",
    "    for page_num in range(min(len(pdf_document), max_page)):\n",
    "        page = pdf_document.load_page(page_num)\n",
    "        \n",
    "        # Extract text from the page\n",
    "        text = page.get_text(\"text\")\n",
    "        \n",
    "        # Split text into sentences/lines\n",
    "        lines = re.split(r'\\n', text)\n",
    "        \n",
    "        # Detect language and filter for English\n",
    "        for line in lines:\n",
    "            try:\n",
    "                if detect(line) == 'en':\n",
    "                    cleaned_line = clean_text(line)\n",
    "                    if cleaned_line:  # Add only non-empty cleaned lines\n",
    "                        english_text.append(cleaned_line)\n",
    "            except:\n",
    "                continue  # Skip lines where language detection fails\n",
    "\n",
    "    return \" \".join(english_text)\n",
    "\n",
    "# Use the function\n",
    "pdf_path = \"washer.pdf\"\n",
    "english_text = extract_and_clean_english_text(pdf_path)\n",
    "print(english_text)\n"
   ]
  },
  {
   "cell_type": "code",
   "execution_count": null,
   "metadata": {},
   "outputs": [],
   "source": []
  }
 ],
 "metadata": {
  "kernelspec": {
   "display_name": "venv",
   "language": "python",
   "name": "python3"
  },
  "language_info": {
   "codemirror_mode": {
    "name": "ipython",
    "version": 3
   },
   "file_extension": ".py",
   "mimetype": "text/x-python",
   "name": "python",
   "nbconvert_exporter": "python",
   "pygments_lexer": "ipython3",
   "version": "3.11.9"
  }
 },
 "nbformat": 4,
 "nbformat_minor": 2
}
